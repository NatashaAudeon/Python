{
 "cells": [
  {
   "cell_type": "markdown",
   "metadata": {},
   "source": [
    "# Simple programs to learn programming in Python"
   ]
  },
  {
   "cell_type": "code",
   "execution_count": 1,
   "metadata": {
    "collapsed": false
   },
   "outputs": [
    {
     "name": "stdout",
     "output_type": "stream",
     "text": [
      "What is your forename?\n",
      "Husky\n",
      "What is your surname?\n",
      "Audeon\n",
      "Your full name is Husky Audeon\n"
     ]
    }
   ],
   "source": [
    "print(\"What is your forename?\")\n",
    "forename=input()\n",
    "print(\"What is your surname?\")\n",
    "surname=input()\n",
    "print(\"Your full name is\" ,forename ,surname)"
   ]
  },
  {
   "cell_type": "code",
   "execution_count": 3,
   "metadata": {
    "collapsed": false
   },
   "outputs": [
    {
     "name": "stdout",
     "output_type": "stream",
     "text": [
      "What is the capital of England?\n",
      "London\n",
      "Correct!\n",
      "Who was the PM during WWII?\n",
      "Churchill\n",
      "Correct!\n",
      "Who is the current PM?\n",
      "Johnson\n",
      "Incorrect- the answer is Boris Johnson.\n",
      "What is the name of the campaign for the UK to leave the EU?\n",
      "Brexit\n",
      "Correct!\n",
      "Well done! Your score is 3 out of 4\n"
     ]
    }
   ],
   "source": [
    "score=0\n",
    "print(\"What is the capital of England?\")\n",
    "answer=input()\n",
    "if answer in[\"London\" ,\"london\"]:\n",
    "    print(\"Correct!\")\n",
    "    score=score+1\n",
    "else:\n",
    "    print(\"Incorrect- the answer is London.\")\n",
    "print(\"Who was the PM during WWII?\")        \n",
    "answer=input()\n",
    "if answer in[\"Winston Churchill\" ,\"winston churchill\" ,\"Churchill\" ,\"churchill\"]:\n",
    "    print(\"Correct!\")\n",
    "    score=score+1\n",
    "else:\n",
    "    print(\"Incorrect- the answer is Winston Churchill.\")\n",
    "print(\"Who is the current PM?\")\n",
    "answer=input()\n",
    "if answer in[\"Boris Johnson\" , \"boris johnson\"]:\n",
    "    print(\"Correct!\")\n",
    "    score=score+1\n",
    "else:\n",
    "    print(\"Incorrect- the answer is Boris Johnson.\")\n",
    "print(\"What is the name of the campaign for the UK to leave the EU?\")\n",
    "answer=input()\n",
    "if answer in[\"Brexit\" ,\"brexit\"]:\n",
    "    print(\"Correct!\")\n",
    "    score=score+1\n",
    "else:\n",
    "    print(\"Incorrect- the answer is Brexit.\")\n",
    "print(\"Well done! Your score is\" ,score, \"out of 4\")        "
   ]
  },
  {
   "cell_type": "code",
   "execution_count": 4,
   "metadata": {
    "collapsed": false
   },
   "outputs": [
    {
     "name": "stdout",
     "output_type": "stream",
     "text": [
      "Adding\n",
      "What is your first number?\n",
      "128\n",
      "What is your second number?\n",
      "256\n",
      "The answer is 384.0\n"
     ]
    }
   ],
   "source": [
    "print(\"Adding\")\n",
    "print(\"What is your first number?\")\n",
    "number1=input()\n",
    "print(\"What is your second number?\")\n",
    "number2=input()\n",
    "sum = float(number1) + float(number2)\n",
    "print(\"The answer is\" ,sum)"
   ]
  },
  {
   "cell_type": "code",
   "execution_count": null,
   "metadata": {
    "collapsed": true
   },
   "outputs": [],
   "source": []
  }
 ],
 "metadata": {
  "kernelspec": {
   "display_name": "Python [default]",
   "language": "python",
   "name": "python3"
  },
  "language_info": {
   "codemirror_mode": {
    "name": "ipython",
    "version": 3
   },
   "file_extension": ".py",
   "mimetype": "text/x-python",
   "name": "python",
   "nbconvert_exporter": "python",
   "pygments_lexer": "ipython3",
   "version": "3.5.2"
  }
 },
 "nbformat": 4,
 "nbformat_minor": 2
}
