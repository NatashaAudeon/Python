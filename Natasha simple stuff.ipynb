{
 "cells": [
  {
   "cell_type": "markdown",
   "metadata": {},
   "source": [
    "## Ask user to enter forename and surname to print full name"
   ]
  },
  {
   "cell_type": "code",
   "execution_count": 1,
   "metadata": {
    "collapsed": false
   },
   "outputs": [
    {
     "name": "stdout",
     "output_type": "stream",
     "text": [
      "What is your forename?\n",
      "Natasha\n",
      "What is your surname?\n",
      "Audeon\n",
      "Your full name is Natasha Audeon\n"
     ]
    }
   ],
   "source": [
    "print(\"What is your forename?\")\n",
    "forename=input()\n",
    "print(\"What is your surname?\")\n",
    "surname=input()\n",
    "print(\"Your full name is\" ,forename ,surname)"
   ]
  },
  {
   "cell_type": "markdown",
   "metadata": {},
   "source": [
    "## Short quiz "
   ]
  },
  {
   "cell_type": "code",
   "execution_count": 27,
   "metadata": {
    "collapsed": false
   },
   "outputs": [
    {
     "name": "stdout",
     "output_type": "stream",
     "text": [
      "What is the capital of England?\n",
      "London\n",
      "Correct!\n",
      "Who was the PM during WWII?\n",
      "winston churchill\n",
      "Correct!\n",
      "Who is the current PM?\n",
      "boris johnson\n",
      "Correct!\n",
      "What is the name of the campaign for the UK to leave the EU?\n",
      "Brexit\n",
      "Correct!\n",
      "Well done! Your score is 4\n"
     ]
    }
   ],
   "source": [
    "score=0\n",
    "print(\"What is the capital of England?\")\n",
    "answer=input()\n",
    "if answer in[\"London\" ,\"london\"]:\n",
    "    print(\"Correct!\")\n",
    "    score=score+1\n",
    "else:\n",
    "    print(\"Incorrect- the answer is London.\")\n",
    "print(\"Who was the PM during WWII?\")        \n",
    "answer=input()\n",
    "if answer in[\"Winston Churchill\" ,\"winston churchill\" ,\"Churchill\" ,\"churchill\"]:\n",
    "    print(\"Correct!\")\n",
    "    score=score+1\n",
    "else:\n",
    "    print(\"Incorrect- the answer is Winston Churchill.\")\n",
    "print(\"Who is the current PM?\")\n",
    "answer=input()\n",
    "if answer in[\"Boris Johnson\" , \"boris johnson\" ,\"johnson\" ,\"Johnson\"]:\n",
    "    print(\"Correct!\")\n",
    "    score=score+1\n",
    "else:\n",
    "    print(\"Incorrect- the answer is Boris Johnson.\")\n",
    "print(\"What is the name of the campaign for the UK to leave the EU?\")s\n",
    "answer=input()\n",
    "if answer in[\"Brexit\" ,\"brexit\"]:\n",
    "    print(\"Correct!\")\n",
    "    score=score+1\n",
    "else:\n",
    "    print(\"Incorrect- the answer is Brexit.\")\n",
    "print(\"Well done! Your score is\" ,score)        "
   ]
  },
  {
   "cell_type": "markdown",
   "metadata": {},
   "source": [
    "## Adding machine for two numbers\n"
   ]
  },
  {
   "cell_type": "code",
   "execution_count": null,
   "metadata": {
    "collapsed": false
   },
   "outputs": [],
   "source": [
    "print(\"Adding\")\n",
    "print(\"What is your first number?\")\n",
    "number1=input()\n",
    "print(\"What is your second number?\")\n",
    "number2=input()\n",
    "sum = float(number1) + float(number2)\n",
    "print(\"The answer is\" ,sum)"
   ]
  },
  {
   "cell_type": "markdown",
   "metadata": {},
   "source": [
    "## Which number is the greater number?"
   ]
  },
  {
   "cell_type": "code",
   "execution_count": null,
   "metadata": {
    "collapsed": false
   },
   "outputs": [
    {
     "name": "stdout",
     "output_type": "stream",
     "text": [
      "What is your first number?\n"
     ]
    }
   ],
   "source": [
    "x=0\n",
    "print(\"What is your first number?\")\n",
    "number1=int(input())\n",
    "print(\"What is your second number?\")\n",
    "number2=int(input())\n",
    "print(\"you entered\",number1 ,number2)\n",
    "if (number1 > number2):\n",
    "    x = number1\n",
    "else:\n",
    "    x = number2\n",
    "print(\"The larger number is\", x)"
   ]
  },
  {
   "cell_type": "markdown",
   "metadata": {},
   "source": [
    "## Even or odd?"
   ]
  },
  {
   "cell_type": "code",
   "execution_count": 35,
   "metadata": {
    "collapsed": false
   },
   "outputs": [
    {
     "name": "stdout",
     "output_type": "stream",
     "text": [
      "What is your number?\n",
      "Enter a number: 82\n",
      "82 is Even\n"
     ]
    }
   ],
   "source": [
    "print(\"What is your number?\") \n",
    "num = int(input(\"Enter a number: \"))\n",
    "if (num % 2) == 0:\n",
    "   print(\"{0} is Even\".format(num))\n",
    "else:\n",
    "   print(\"{0} is Odd\".format(num))"
   ]
  },
  {
   "cell_type": "markdown",
   "metadata": {
    "collapsed": true
   },
   "source": [
    "## Swap the Numbers Around"
   ]
  },
  {
   "cell_type": "code",
   "execution_count": 36,
   "metadata": {
    "collapsed": false
   },
   "outputs": [
    {
     "name": "stdout",
     "output_type": "stream",
     "text": [
      "Choose a number to be A.\n",
      "5\n",
      "Choose a number to be B.\n",
      "10\n",
      "The value of A after swapping: 10\n",
      "The value of Y after swapping: 5\n"
     ]
    }
   ],
   "source": [
    "print(\"Choose a number to be A.\")\n",
    "numA=input()\n",
    "print(\"Choose a number to be B.\")\n",
    "numB=input()\n",
    "temp = numA\n",
    "numA = numB\n",
    "numB = temp\n",
    "\n",
    "print('The value of A after swapping: {}'.format(numA))\n",
    "print('The value of Y after swapping: {}'.format(numB))\n"
   ]
  },
  {
   "cell_type": "code",
   "execution_count": null,
   "metadata": {
    "collapsed": true
   },
   "outputs": [],
   "source": []
  }
 ],
 "metadata": {
  "kernelspec": {
   "display_name": "Python [default]",
   "language": "python",
   "name": "python3"
  },
  "language_info": {
   "codemirror_mode": {
    "name": "ipython",
    "version": 3
   },
   "file_extension": ".py",
   "mimetype": "text/x-python",
   "name": "python",
   "nbconvert_exporter": "python",
   "pygments_lexer": "ipython3",
   "version": "3.5.2"
  }
 },
 "nbformat": 4,
 "nbformat_minor": 2
}
